{
 "cells": [
  {
   "cell_type": "markdown",
   "metadata": {},
   "source": [
    "# Data migration to the PostgreSQL"
   ]
  },
  {
   "cell_type": "markdown",
   "metadata": {},
   "source": [
    "Connection to the database"
   ]
  },
  {
   "cell_type": "code",
   "execution_count": 67,
   "metadata": {
    "collapsed": true
   },
   "outputs": [],
   "source": [
    "from psycopg2 import connect, sql\n",
    "credentials = dict(host='rds-test-av.cnf9kpbogrso.us-east-1.rds.amazonaws.com',\n",
    "                   port='5432',\n",
    "                   dbname='av_test',\n",
    "                   user='avian',\n",
    "                   passwd='testtest'\n",
    "                  )\n",
    "conn_string = \"host={host} port={port} dbname={dbname} user={user} password={passwd}\" \n",
    "conn = connect(conn_string.format(**credentials))"
   ]
  },
  {
   "cell_type": "markdown",
   "metadata": {},
   "source": [
    "Create schema for the database"
   ]
  },
  {
   "cell_type": "code",
   "execution_count": 23,
   "metadata": {
    "collapsed": false
   },
   "outputs": [],
   "source": [
    "# Helper function for executing bunch of queries\n",
    "def execute(conn, queries):\n",
    "    try:\n",
    "        with conn:\n",
    "            with conn.cursor() as cur:\n",
    "                for query in queries:\n",
    "                    cur.execute(query)\n",
    "    except:\n",
    "        raise\n",
    "    else:\n",
    "        print(execute.__name__ + ' : ' + \"done!\")\n",
    "        \n",
    "drop_table = \"DROP TABLE IF EXISTS {table_name}\" "
   ]
  },
  {
   "cell_type": "markdown",
   "metadata": {},
   "source": [
    "Create a schema for \\`devices\\` table "
   ]
  },
  {
   "cell_type": "code",
   "execution_count": 29,
   "metadata": {
    "collapsed": false
   },
   "outputs": [
    {
     "name": "stdout",
     "output_type": "stream",
     "text": [
      "execute : done!\n"
     ]
    }
   ],
   "source": [
    "SQL_devices_table = \"\"\"\n",
    "CREATE TABLE devices\n",
    "( \n",
    "  id SERIAL PRIMARY KEY,\n",
    "  device_id TEXT,\n",
    "  type TEXT,\n",
    "  time timestamp with time zone,\n",
    "  metric_type TEXT,\n",
    "  metric_value double precision,\n",
    "  CONSTRAINT u_devices_columns UNIQUE (device_id, time, metric_type)\n",
    ")\n",
    ";\n",
    "\"\"\"\n",
    "queries = [\n",
    "            sql.SQL(drop_table).format(table_name=sql.Identifier(\"devices\")),\n",
    "            SQL_devices_table\n",
    "          ]\n",
    "execute(conn, queries)"
   ]
  },
  {
   "cell_type": "code",
   "execution_count": 4,
   "metadata": {
    "collapsed": true
   },
   "outputs": [],
   "source": [
    "# Helper function for role creation\n",
    "def add_role(conn, role, revoke, drop_role, create, grant, override = False):\n",
    "    try:\n",
    "        with conn:\n",
    "            with conn.cursor() as cur:\n",
    "                cur.execute(\"SELECT 1 FROM pg_roles WHERE rolname=%s\", (role,))\n",
    "                if cur.fetchone():\n",
    "                    if override:\n",
    "                        execute(conn, [revoke, drop_role, create, grant])\n",
    "                    else:\n",
    "                        print(\"Role {} already exists\".format(role))\n",
    "                else:\n",
    "                    execute(conn, [create, grant])\n",
    "    except:\n",
    "        raise\n",
    "    else:\n",
    "        print(add_role.__name__ + ' : ' + \"done!\")"
   ]
  },
  {
   "cell_type": "markdown",
   "metadata": {},
   "source": [
    "Create \\`ds_team_member\\` role and grant all permissions to it"
   ]
  },
  {
   "cell_type": "code",
   "execution_count": 5,
   "metadata": {
    "collapsed": false
   },
   "outputs": [],
   "source": [
    "role = 'ds_team_member'\n",
    "\n",
    "revoke_permissions = \"\"\"\n",
    "REVOKE CONNECT ON DATABASE {db} FROM {role};\n",
    "REVOKE ALL ON ALL TABLES IN SCHEMA public FROM {role};\n",
    "REVOKE ALL ON SCHEMA public FROM {role};\n",
    "REVOKE ALL ON ALL SEQUENCES IN SCHEMA public FROM {role};\n",
    "ALTER DEFAULT PRIVILEGES IN SCHEMA public REVOKE ALL ON TABLES FROM {role};\"\"\" \n",
    "\n",
    "drop_role = \"DROP ROLE IF EXISTS {role}\" \n",
    "\n",
    "create_role = \"\"\"CREATE ROLE {role} WITH CREATEDB \"\"\"\n",
    "\n",
    "grant_permissions = \"\"\"\n",
    "REVOKE CONNECT ON DATABASE {db} FROM PUBLIC;\n",
    "GRANT CONNECT ON DATABASE {db} TO {role};\n",
    "\n",
    "REVOKE ALL ON SCHEMA public FROM PUBLIC;\n",
    "GRANT ALL ON SCHEMA public TO {role};\n",
    "\n",
    "REVOKE ALL ON ALL TABLES IN SCHEMA public FROM PUBLIC;\n",
    "GRANT ALL ON ALL TABLES IN SCHEMA public TO {role};\n",
    "\n",
    "REVOKE ALL ON ALL SEQUENCES IN SCHEMA public FROM PUBLIC;\n",
    "GRANT ALL ON ALL SEQUENCES IN SCHEMA public to {role};\n",
    "\n",
    "ALTER DEFAULT PRIVILEGES \n",
    "IN SCHEMA public\n",
    "GRANT ALL ON TABLES TO {role};\n",
    "\"\"\"                                                                        "
   ]
  },
  {
   "cell_type": "code",
   "execution_count": 13,
   "metadata": {
    "collapsed": false
   },
   "outputs": [
    {
     "name": "stdout",
     "output_type": "stream",
     "text": [
      "execute : done!\n",
      "add_role : done!\n"
     ]
    }
   ],
   "source": [
    "add_role(conn, role, \n",
    "         sql.SQL(revoke_permissions).format(db=sql.Identifier(credentials['dbname']),role=sql.Identifier(role)),\n",
    "         sql.SQL(drop_role).format(role=sql.Identifier(role)),\n",
    "         sql.SQL(create_role).format(role=sql.Identifier(role)),\n",
    "         sql.SQL(grant_permissions).format(db=sql.Identifier(credentials['dbname']),role=sql.Identifier(role))\n",
    "        )"
   ]
  },
  {
   "cell_type": "markdown",
   "metadata": {},
   "source": [
    "Create user and assign it to the \\`ds_team_member\\` role"
   ]
  },
  {
   "cell_type": "code",
   "execution_count": 10,
   "metadata": {
    "collapsed": false
   },
   "outputs": [
    {
     "name": "stdout",
     "output_type": "stream",
     "text": [
      "execute : done!\n"
     ]
    }
   ],
   "source": [
    "new_user = 'ds_1'\n",
    "new_password = 'test'\n",
    "drop_user = 'DROP USER IF EXISTS {user}' \n",
    "create_user = \"CREATE USER {user} WITH CREATEDB PASSWORD {passwd}\"\n",
    "grant_membership = \"GRANT {role} to {user}\"\n",
    "\n",
    "execute(conn, \n",
    "        [sql.SQL(drop_user).format(user=sql.Identifier(new_user)),\n",
    "         sql.SQL(create_user).format(user=sql.Identifier(new_user), passwd=sql.Literal(new_password)),\n",
    "         sql.SQL(grant_membership).format(role=sql.Identifier(role), user=sql.Identifier(new_user))\n",
    "        ])"
   ]
  },
  {
   "cell_type": "markdown",
   "metadata": {},
   "source": [
    "Test connection for the newly created user"
   ]
  },
  {
   "cell_type": "code",
   "execution_count": 28,
   "metadata": {
    "collapsed": false
   },
   "outputs": [
    {
     "name": "stdout",
     "output_type": "stream",
     "text": [
      "[('public.devices',)]\n",
      "[]\n"
     ]
    }
   ],
   "source": [
    "credentials_test = credentials\n",
    "credentials_test['user'] = new_user\n",
    "credentials_test['password'] = new_password\n",
    "conn_test = connect(conn_string.format(**credentials_test))\n",
    "\n",
    "cur_test = conn_test.cursor()\n",
    "cur_test.execute(\"\"\"\n",
    "SELECT \n",
    "    table_schema || '.' || table_name\n",
    "FROM\n",
    "    information_schema.tables\n",
    "WHERE\n",
    "    table_type = 'BASE TABLE'\n",
    "AND\n",
    "    table_schema NOT IN ('pg_catalog', 'information_schema');\n",
    "    \"\"\")\n",
    "print(cur_test.fetchall())\n",
    "\n",
    "cur_test.execute(\"SELECT* FROM devices\")\n",
    "print(cur_test.fetchall())\n",
    "\n",
    "## Close test connection\n",
    "cur_test.close()\n",
    "conn_test.close()"
   ]
  },
  {
   "cell_type": "markdown",
   "metadata": {},
   "source": [
    "#### Push data to PostgreSQL"
   ]
  },
  {
   "cell_type": "code",
   "execution_count": 12,
   "metadata": {
    "collapsed": false
   },
   "outputs": [],
   "source": [
    "import uuid\n",
    "import pandas as pd\n",
    "import numpy as np\n",
    "from sqlalchemy import create_engine\n",
    "import time\n",
    "from tabulate import tabulate"
   ]
  },
  {
   "cell_type": "markdown",
   "metadata": {},
   "source": [
    "Generate synthetic data and save it to csv file"
   ]
  },
  {
   "cell_type": "code",
   "execution_count": 24,
   "metadata": {
    "collapsed": false
   },
   "outputs": [
    {
     "name": "stdout",
     "output_type": "stream",
     "text": [
      "+----+---------------------------+--------------------------------------+----------------+---------------+--------+\n",
      "|    | time                      | device_id                            |   metric_value | metric_type   | type   |\n",
      "|----+---------------------------+--------------------------------------+----------------+---------------+--------|\n",
      "|  0 | 2017-04-27 00:55:00-07:00 | f59292b1-149d-48b3-aa88-a90a49434168 |             18 | temperature   | SHU001 |\n",
      "|  1 | 2017-04-27 16:20:00-07:00 | 7df18f86-e179-4cb2-8892-1362ff2ca790 |             18 | temperature   | SHU001 |\n",
      "|  2 | 2017-04-27 12:10:00-07:00 | 1c047ccf-9758-4d0d-a46e-182ff92b2a47 |             19 | temperature   | SHU001 |\n",
      "|  3 | 2017-04-27 20:25:00-07:00 | a84921c8-f8e5-45d1-b4ff-a7f583b56153 |             19 | temperature   | SHU001 |\n",
      "|  4 | 2017-04-27 06:40:00-07:00 | 7df18f86-e179-4cb2-8892-1362ff2ca790 |             19 | temperature   | SHU001 |\n",
      "+----+---------------------------+--------------------------------------+----------------+---------------+--------+\n"
     ]
    }
   ],
   "source": [
    "n = 100\n",
    "ids = [str(uuid.uuid4()) for x in range(n)]\n",
    "start = '2017-04-27'\n",
    "days = 5\n",
    "t = pd.date_range(start=start, periods = 12*24*days, freq='5min', tz='US/Pacific')\n",
    "df_id = pd.DataFrame({'device_id': ids})\n",
    "df_id.loc[:, 'key'] = 1\n",
    "df_t = pd.DataFrame({'time': t})\n",
    "df_t.loc[:, 'key'] = 1\n",
    "rez = pd.merge(df_t, df_id, on = 'key').drop('key', axis = 1)\n",
    "x = np.random.randn(rez.shape[0])*2 + 25\n",
    "rez.loc[:, 'metric_value'] = x\n",
    "rez.loc[:, 'metric_type'] = 'temperature'\n",
    "rez.loc[:, 'type'] = 'SHU001'\n",
    "\n",
    "path = '/home/karimlulu/DataMigration/data.csv'\n",
    "rez = rez.round(0).sort_values(by='metric_value').reset_index(drop=True)\n",
    "rez.to_csv(path, index = False, sep=',', header = False)\n",
    "columns = list(rez.columns)\n",
    "print(tabulate(rez.head(), headers='keys', tablefmt='psql'))"
   ]
  },
  {
   "cell_type": "code",
   "execution_count": 25,
   "metadata": {
    "collapsed": true
   },
   "outputs": [],
   "source": [
    "#try:\n",
    "#    with conn:\n",
    "#        with conn.cursor() as cur:\n",
    "#            cur.execute('TRUNCATE devices')\n",
    "#except: raise"
   ]
  },
  {
   "cell_type": "code",
   "execution_count": 27,
   "metadata": {
    "collapsed": true
   },
   "outputs": [],
   "source": [
    "file = open(path, 'r')"
   ]
  },
  {
   "cell_type": "code",
   "execution_count": 28,
   "metadata": {
    "collapsed": false
   },
   "outputs": [
    {
     "name": "stdout",
     "output_type": "stream",
     "text": [
      "CPU times: user 8 ms, sys: 4 ms, total: 12 ms\n",
      "Wall time: 1.88 s\n"
     ]
    }
   ],
   "source": [
    "%%time\n",
    "try:\n",
    "    with conn:\n",
    "        with conn.cursor() as cur:            \n",
    "            cur.copy_from(file, 'devices', sep=',', columns = columns)\n",
    "except: raise"
   ]
  },
  {
   "cell_type": "code",
   "execution_count": 100,
   "metadata": {
    "collapsed": false
   },
   "outputs": [],
   "source": [
    "engine = create_engine('postgresql+psycopg2://{user}:{passwd}@{host}:{port}/{dbname}'.format(**credentials), echo=False)"
   ]
  },
  {
   "cell_type": "code",
   "execution_count": 110,
   "metadata": {
    "collapsed": false
   },
   "outputs": [
    {
     "name": "stdout",
     "output_type": "stream",
     "text": [
      "Finished: 1000, Time spent: 140.17 sec\n",
      "Finished: 2000, Time spent: 280.85 sec\n",
      "Finished: 3000, Time spent: 422.42 sec\n",
      "Finished: 4000, Time spent: 562.85 sec\n",
      "Finished: 5000, Time spent: 703.84 sec\n",
      "Finished: 6000, Time spent: 845.41 sec\n",
      "Finished: 7000, Time spent: 987.09 sec\n",
      "Finished: 8000, Time spent: 1129.38 sec\n",
      "Finished: 9000, Time spent: 1270.75 sec\n",
      "Finished: 10000, Time spent: 1412.61 sec\n",
      "CPU times: user 1.19 s, sys: 208 ms, total: 1.4 s\n",
      "Wall time: 23min 32s\n"
     ]
    }
   ],
   "source": [
    "%%time\n",
    "chunksize = 1000\n",
    "i = 0\n",
    "start = time.time()\n",
    "for df in pd.read_csv(path, names = columns, chunksize = chunksize, iterator = True):\n",
    "    df.to_sql(name='devices', con=engine, index=False, if_exists='append', chunksize=1000)\n",
    "    i += 1\n",
    "    print('Finished: {0}, Time spent: {1:0.2f} sec'.format(i * chunksize, time.time() - start))\n",
    "    if i > 9: break"
   ]
  },
  {
   "cell_type": "markdown",
   "metadata": {},
   "source": [
    "#### Temporary tables"
   ]
  },
  {
   "cell_type": "code",
   "execution_count": 34,
   "metadata": {
    "collapsed": true
   },
   "outputs": [],
   "source": [
    "SQL_temp_devices_table = \"\"\"\n",
    "CREATE TEMPORARY TABLE IF NOT EXISTS tmp_devices\n",
    "( \n",
    "  id SERIAL PRIMARY KEY,\n",
    "  device_id TEXT,\n",
    "  type TEXT,\n",
    "  time timestamp with time zone,\n",
    "  metric_type TEXT,\n",
    "  metric_value double precision\n",
    ")\n",
    "ON COMMIT DROP\n",
    ";\n",
    "\"\"\"\n",
    "insert_statement = \"\"\"\n",
    "INSERT INTO devices(device_id, type, time, metric_type, metric_value) \n",
    "SELECT device_id, type, time, metric_type, metric_value \n",
    "FROM tmp_devices\n",
    "ON CONFLICT ON CONSTRAINT u_devices_columns DO NOTHING;\n",
    "\"\"\""
   ]
  },
  {
   "cell_type": "code",
   "execution_count": 37,
   "metadata": {
    "collapsed": false
   },
   "outputs": [],
   "source": [
    "file = open(path, 'r')"
   ]
  },
  {
   "cell_type": "code",
   "execution_count": 38,
   "metadata": {
    "collapsed": false
   },
   "outputs": [
    {
     "name": "stdout",
     "output_type": "stream",
     "text": [
      "CPU times: user 68 ms, sys: 24 ms, total: 92 ms\n",
      "Wall time: 5.16 s\n"
     ]
    }
   ],
   "source": [
    "%%time\n",
    "try:\n",
    "    with conn:\n",
    "        with conn.cursor() as cur:\n",
    "            cur.execute(SQL_temp_devices_table)\n",
    "            cur.copy_from(file, 'tmp_devices', sep=',', columns = columns)\n",
    "            cur.execute(insert_statement)\n",
    "except: raise"
   ]
  },
  {
   "cell_type": "code",
   "execution_count": 39,
   "metadata": {
    "collapsed": true
   },
   "outputs": [],
   "source": [
    "## VACUUM\n",
    "try:\n",
    "    with conn:\n",
    "        conn.autocommit = True\n",
    "        with conn.cursor() as cur:\n",
    "            cur.execute(\"VACUUM FULL\")\n",
    "except: raise\n",
    "finally: conn.autocommit = False"
   ]
  },
  {
   "cell_type": "code",
   "execution_count": 68,
   "metadata": {
    "collapsed": false
   },
   "outputs": [
    {
     "data": {
      "text/html": [
       "<div>\n",
       "<table border=\"1\" class=\"dataframe\">\n",
       "  <thead>\n",
       "    <tr style=\"text-align: right;\">\n",
       "      <th></th>\n",
       "      <th>device_id</th>\n",
       "      <th>metric_value</th>\n",
       "      <th>sum</th>\n",
       "    </tr>\n",
       "  </thead>\n",
       "  <tbody>\n",
       "    <tr>\n",
       "      <th>0</th>\n",
       "      <td>9ac48182-9423-4cb2-90f7-2a3ab99d16e7</td>\n",
       "      <td>31.0</td>\n",
       "      <td>31.0</td>\n",
       "    </tr>\n",
       "    <tr>\n",
       "      <th>1</th>\n",
       "      <td>1c047ccf-9758-4d0d-a46e-182ff92b2a47</td>\n",
       "      <td>31.0</td>\n",
       "      <td>62.0</td>\n",
       "    </tr>\n",
       "    <tr>\n",
       "      <th>2</th>\n",
       "      <td>bcd76980-67c3-46ee-97e6-a4e6347c0a44</td>\n",
       "      <td>31.0</td>\n",
       "      <td>93.0</td>\n",
       "    </tr>\n",
       "    <tr>\n",
       "      <th>3</th>\n",
       "      <td>f6b15d24-311e-4da5-938a-79dfb88c814a</td>\n",
       "      <td>31.0</td>\n",
       "      <td>124.0</td>\n",
       "    </tr>\n",
       "    <tr>\n",
       "      <th>4</th>\n",
       "      <td>9ac48182-9423-4cb2-90f7-2a3ab99d16e7</td>\n",
       "      <td>31.0</td>\n",
       "      <td>155.0</td>\n",
       "    </tr>\n",
       "    <tr>\n",
       "      <th>5</th>\n",
       "      <td>a84921c8-f8e5-45d1-b4ff-a7f583b56153</td>\n",
       "      <td>31.0</td>\n",
       "      <td>186.0</td>\n",
       "    </tr>\n",
       "    <tr>\n",
       "      <th>6</th>\n",
       "      <td>a84921c8-f8e5-45d1-b4ff-a7f583b56153</td>\n",
       "      <td>31.0</td>\n",
       "      <td>217.0</td>\n",
       "    </tr>\n",
       "    <tr>\n",
       "      <th>7</th>\n",
       "      <td>dc0ec733-4759-46ab-986b-4afb8bbf9be7</td>\n",
       "      <td>31.0</td>\n",
       "      <td>248.0</td>\n",
       "    </tr>\n",
       "    <tr>\n",
       "      <th>8</th>\n",
       "      <td>a84921c8-f8e5-45d1-b4ff-a7f583b56153</td>\n",
       "      <td>30.0</td>\n",
       "      <td>278.0</td>\n",
       "    </tr>\n",
       "    <tr>\n",
       "      <th>9</th>\n",
       "      <td>bcd76980-67c3-46ee-97e6-a4e6347c0a44</td>\n",
       "      <td>30.0</td>\n",
       "      <td>308.0</td>\n",
       "    </tr>\n",
       "    <tr>\n",
       "      <th>10</th>\n",
       "      <td>cfc5c8c0-8bc3-49eb-b5f5-db16d00da858</td>\n",
       "      <td>30.0</td>\n",
       "      <td>338.0</td>\n",
       "    </tr>\n",
       "    <tr>\n",
       "      <th>11</th>\n",
       "      <td>9ac48182-9423-4cb2-90f7-2a3ab99d16e7</td>\n",
       "      <td>30.0</td>\n",
       "      <td>368.0</td>\n",
       "    </tr>\n",
       "    <tr>\n",
       "      <th>12</th>\n",
       "      <td>bcd76980-67c3-46ee-97e6-a4e6347c0a44</td>\n",
       "      <td>30.0</td>\n",
       "      <td>398.0</td>\n",
       "    </tr>\n",
       "    <tr>\n",
       "      <th>13</th>\n",
       "      <td>a84921c8-f8e5-45d1-b4ff-a7f583b56153</td>\n",
       "      <td>30.0</td>\n",
       "      <td>428.0</td>\n",
       "    </tr>\n",
       "    <tr>\n",
       "      <th>14</th>\n",
       "      <td>7df18f86-e179-4cb2-8892-1362ff2ca790</td>\n",
       "      <td>30.0</td>\n",
       "      <td>458.0</td>\n",
       "    </tr>\n",
       "    <tr>\n",
       "      <th>15</th>\n",
       "      <td>1c047ccf-9758-4d0d-a46e-182ff92b2a47</td>\n",
       "      <td>30.0</td>\n",
       "      <td>488.0</td>\n",
       "    </tr>\n",
       "    <tr>\n",
       "      <th>16</th>\n",
       "      <td>f6b15d24-311e-4da5-938a-79dfb88c814a</td>\n",
       "      <td>30.0</td>\n",
       "      <td>518.0</td>\n",
       "    </tr>\n",
       "    <tr>\n",
       "      <th>17</th>\n",
       "      <td>1c047ccf-9758-4d0d-a46e-182ff92b2a47</td>\n",
       "      <td>30.0</td>\n",
       "      <td>548.0</td>\n",
       "    </tr>\n",
       "    <tr>\n",
       "      <th>18</th>\n",
       "      <td>bcd76980-67c3-46ee-97e6-a4e6347c0a44</td>\n",
       "      <td>30.0</td>\n",
       "      <td>578.0</td>\n",
       "    </tr>\n",
       "    <tr>\n",
       "      <th>19</th>\n",
       "      <td>7df18f86-e179-4cb2-8892-1362ff2ca790</td>\n",
       "      <td>30.0</td>\n",
       "      <td>608.0</td>\n",
       "    </tr>\n",
       "  </tbody>\n",
       "</table>\n",
       "</div>"
      ],
      "text/plain": [
       "                               device_id  metric_value    sum\n",
       "0   9ac48182-9423-4cb2-90f7-2a3ab99d16e7          31.0   31.0\n",
       "1   1c047ccf-9758-4d0d-a46e-182ff92b2a47          31.0   62.0\n",
       "2   bcd76980-67c3-46ee-97e6-a4e6347c0a44          31.0   93.0\n",
       "3   f6b15d24-311e-4da5-938a-79dfb88c814a          31.0  124.0\n",
       "4   9ac48182-9423-4cb2-90f7-2a3ab99d16e7          31.0  155.0\n",
       "5   a84921c8-f8e5-45d1-b4ff-a7f583b56153          31.0  186.0\n",
       "6   a84921c8-f8e5-45d1-b4ff-a7f583b56153          31.0  217.0\n",
       "7   dc0ec733-4759-46ab-986b-4afb8bbf9be7          31.0  248.0\n",
       "8   a84921c8-f8e5-45d1-b4ff-a7f583b56153          30.0  278.0\n",
       "9   bcd76980-67c3-46ee-97e6-a4e6347c0a44          30.0  308.0\n",
       "10  cfc5c8c0-8bc3-49eb-b5f5-db16d00da858          30.0  338.0\n",
       "11  9ac48182-9423-4cb2-90f7-2a3ab99d16e7          30.0  368.0\n",
       "12  bcd76980-67c3-46ee-97e6-a4e6347c0a44          30.0  398.0\n",
       "13  a84921c8-f8e5-45d1-b4ff-a7f583b56153          30.0  428.0\n",
       "14  7df18f86-e179-4cb2-8892-1362ff2ca790          30.0  458.0\n",
       "15  1c047ccf-9758-4d0d-a46e-182ff92b2a47          30.0  488.0\n",
       "16  f6b15d24-311e-4da5-938a-79dfb88c814a          30.0  518.0\n",
       "17  1c047ccf-9758-4d0d-a46e-182ff92b2a47          30.0  548.0\n",
       "18  bcd76980-67c3-46ee-97e6-a4e6347c0a44          30.0  578.0\n",
       "19  7df18f86-e179-4cb2-8892-1362ff2ca790          30.0  608.0"
      ]
     },
     "execution_count": 68,
     "metadata": {},
     "output_type": "execute_result"
    }
   ],
   "source": [
    "## Experiments with window functions\n",
    "conn.rollback()\n",
    "cur = conn.cursor()\n",
    "cur.execute(\"\"\"select device_id, metric_value,\n",
    "                sum(metric_value) OVER(ORDER BY metric_value DESC ROWS UNBOUNDED PRECEDING)\n",
    "                from devices\"\"\")\n",
    "tuples = cur.fetchall()\n",
    "cols = [el[0] for el in cur.description]\n",
    "df_window = pd.DataFrame(tuples, columns = cols)\n",
    "df_window.head(20)"
   ]
  },
  {
   "cell_type": "code",
   "execution_count": 85,
   "metadata": {
    "collapsed": false
   },
   "outputs": [],
   "source": [
    "conn.close()"
   ]
  }
 ],
 "metadata": {
  "kernelspec": {
   "display_name": "Python 3.6",
   "language": "python",
   "name": "python3"
  },
  "language_info": {
   "codemirror_mode": {
    "name": "ipython",
    "version": 3
   },
   "file_extension": ".py",
   "mimetype": "text/x-python",
   "name": "python",
   "nbconvert_exporter": "python",
   "pygments_lexer": "ipython3",
   "version": "3.6.0"
  }
 },
 "nbformat": 4,
 "nbformat_minor": 2
}
